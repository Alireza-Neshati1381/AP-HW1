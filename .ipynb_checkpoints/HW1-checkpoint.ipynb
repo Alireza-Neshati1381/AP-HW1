{
 "cells": [
  {
   "cell_type": "code",
   "execution_count": null,
   "id": "eda8b092",
   "metadata": {},
   "outputs": [],
   "source": [
    "from abc import ABC, abstractmethod\n",
    "\n",
    "class Vehicles:\n",
    "    def __init__(self, kind, brand, model, fuel, number_of_seats, path, parking_place):\n",
    "        self._kind = kind\n",
    "        self.brand = brand\n",
    "        self.model = model\n",
    "        self.fuel = fuel\n",
    "        self.number_of_seats = number_of_seats\n",
    "        self._path = path\n",
    "        self.parking_place = parking_place\n",
    "    def get_kind(self):\n",
    "        return self._kind\n",
    "    \n",
    "    def get_path(self):\n",
    "        return self._path\n",
    "    \n",
    "    def move(self) :\n",
    "        return \"This vehicle is moving\"\n",
    "        \n",
    "    def start_engine(self):\n",
    "        return \"This vehicle started\"\n",
    "        \n",
    "    def stop_engine(self):\n",
    "        return \"This vehicle stoped\""
   ]
  }
 ],
 "metadata": {
  "kernelspec": {
   "display_name": "Python 3 (ipykernel)",
   "language": "python",
   "name": "python3"
  },
  "language_info": {
   "codemirror_mode": {
    "name": "ipython",
    "version": 3
   },
   "file_extension": ".py",
   "mimetype": "text/x-python",
   "name": "python",
   "nbconvert_exporter": "python",
   "pygments_lexer": "ipython3",
   "version": "3.9.13"
  }
 },
 "nbformat": 4,
 "nbformat_minor": 5
}
